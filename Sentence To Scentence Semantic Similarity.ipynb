{
 "cells": [
  {
   "cell_type": "code",
   "execution_count": 7,
   "id": "39a5a54f",
   "metadata": {},
   "outputs": [],
   "source": [
    "#Imports\n",
    "import numpy as np\n",
    "import pandas as pd\n",
    "from time import time\n",
    "import matplotlib.pyplot as plt\n",
    "import seaborn as sns\n",
    "import spacy\n",
    "from gensim.models import Word2Vec\n",
    "from bs4 import BeautifulSoup\n",
    "import shutil\n",
    "import gensim\n",
    "import re\n",
    "import string\n",
    "\n",
    "import warnings \n",
    "warnings.filterwarnings(action = 'ignore')\n",
    "# nltk.download('stopwords')"
   ]
  },
  {
   "cell_type": "markdown",
   "id": "666559f5",
   "metadata": {},
   "source": [
    "# Load Data"
   ]
  },
  {
   "cell_type": "code",
   "execution_count": 8,
   "id": "f3ce1f53",
   "metadata": {},
   "outputs": [
    {
     "data": {
      "text/html": [
       "<div>\n",
       "<style scoped>\n",
       "    .dataframe tbody tr th:only-of-type {\n",
       "        vertical-align: middle;\n",
       "    }\n",
       "\n",
       "    .dataframe tbody tr th {\n",
       "        vertical-align: top;\n",
       "    }\n",
       "\n",
       "    .dataframe thead th {\n",
       "        text-align: right;\n",
       "    }\n",
       "</style>\n",
       "<table border=\"1\" class=\"dataframe\">\n",
       "  <thead>\n",
       "    <tr style=\"text-align: right;\">\n",
       "      <th></th>\n",
       "      <th>id</th>\n",
       "      <th>qid1</th>\n",
       "      <th>qid2</th>\n",
       "      <th>question1</th>\n",
       "      <th>question2</th>\n",
       "      <th>is_duplicate</th>\n",
       "    </tr>\n",
       "  </thead>\n",
       "  <tbody>\n",
       "    <tr>\n",
       "      <th>0</th>\n",
       "      <td>0</td>\n",
       "      <td>1</td>\n",
       "      <td>2</td>\n",
       "      <td>What is the step by step guide to invest in sh...</td>\n",
       "      <td>What is the step by step guide to invest in sh...</td>\n",
       "      <td>0</td>\n",
       "    </tr>\n",
       "    <tr>\n",
       "      <th>1</th>\n",
       "      <td>1</td>\n",
       "      <td>3</td>\n",
       "      <td>4</td>\n",
       "      <td>What is the story of Kohinoor (Koh-i-Noor) Dia...</td>\n",
       "      <td>What would happen if the Indian government sto...</td>\n",
       "      <td>0</td>\n",
       "    </tr>\n",
       "    <tr>\n",
       "      <th>2</th>\n",
       "      <td>2</td>\n",
       "      <td>5</td>\n",
       "      <td>6</td>\n",
       "      <td>How can I increase the speed of my internet co...</td>\n",
       "      <td>How can Internet speed be increased by hacking...</td>\n",
       "      <td>0</td>\n",
       "    </tr>\n",
       "    <tr>\n",
       "      <th>3</th>\n",
       "      <td>3</td>\n",
       "      <td>7</td>\n",
       "      <td>8</td>\n",
       "      <td>Why am I mentally very lonely? How can I solve...</td>\n",
       "      <td>Find the remainder when [math]23^{24}[/math] i...</td>\n",
       "      <td>0</td>\n",
       "    </tr>\n",
       "    <tr>\n",
       "      <th>4</th>\n",
       "      <td>4</td>\n",
       "      <td>9</td>\n",
       "      <td>10</td>\n",
       "      <td>Which one dissolve in water quikly sugar, salt...</td>\n",
       "      <td>Which fish would survive in salt water?</td>\n",
       "      <td>0</td>\n",
       "    </tr>\n",
       "  </tbody>\n",
       "</table>\n",
       "</div>"
      ],
      "text/plain": [
       "   id  qid1  qid2                                          question1  \\\n",
       "0   0     1     2  What is the step by step guide to invest in sh...   \n",
       "1   1     3     4  What is the story of Kohinoor (Koh-i-Noor) Dia...   \n",
       "2   2     5     6  How can I increase the speed of my internet co...   \n",
       "3   3     7     8  Why am I mentally very lonely? How can I solve...   \n",
       "4   4     9    10  Which one dissolve in water quikly sugar, salt...   \n",
       "\n",
       "                                           question2  is_duplicate  \n",
       "0  What is the step by step guide to invest in sh...             0  \n",
       "1  What would happen if the Indian government sto...             0  \n",
       "2  How can Internet speed be increased by hacking...             0  \n",
       "3  Find the remainder when [math]23^{24}[/math] i...             0  \n",
       "4            Which fish would survive in salt water?             0  "
      ]
     },
     "execution_count": 8,
     "metadata": {},
     "output_type": "execute_result"
    }
   ],
   "source": [
    "#Read our csv\n",
    "data = pd.read_csv(\"train.csv\", on_bad_lines='skip')\n",
    "\n",
    "data.head()"
   ]
  },
  {
   "cell_type": "code",
   "execution_count": 9,
   "id": "3cdec5a6",
   "metadata": {},
   "outputs": [
    {
     "data": {
      "text/plain": [
       "(404290, 6)"
      ]
     },
     "execution_count": 9,
     "metadata": {},
     "output_type": "execute_result"
    }
   ],
   "source": [
    "data.shape"
   ]
  },
  {
   "cell_type": "markdown",
   "id": "cf95996f",
   "metadata": {},
   "source": [
    "# Drop null values"
   ]
  },
  {
   "cell_type": "code",
   "execution_count": 10,
   "id": "171945ea",
   "metadata": {},
   "outputs": [],
   "source": [
    "data = data.dropna().reset_index(drop=True)"
   ]
  },
  {
   "cell_type": "code",
   "execution_count": 11,
   "id": "a69f4274",
   "metadata": {},
   "outputs": [
    {
     "data": {
      "text/plain": [
       "(404287, 6)"
      ]
     },
     "execution_count": 11,
     "metadata": {},
     "output_type": "execute_result"
    }
   ],
   "source": [
    "data.shape"
   ]
  },
  {
   "cell_type": "markdown",
   "id": "0cdf4a88",
   "metadata": {},
   "source": [
    "# Taking sample from data since the data is very large"
   ]
  },
  {
   "cell_type": "code",
   "execution_count": 12,
   "id": "577c6df6",
   "metadata": {},
   "outputs": [
    {
     "data": {
      "text/plain": [
       "(30000, 6)"
      ]
     },
     "execution_count": 12,
     "metadata": {},
     "output_type": "execute_result"
    }
   ],
   "source": [
    "new_df = data.sample(30000, random_state=2)\n",
    "new_df.shape"
   ]
  },
  {
   "cell_type": "markdown",
   "id": "ef6c30ad",
   "metadata": {},
   "source": [
    "# Preprocessing"
   ]
  },
  {
   "cell_type": "code",
   "execution_count": 13,
   "id": "49017671",
   "metadata": {},
   "outputs": [],
   "source": [
    "def preprocessing(q):\n",
    "    \n",
    "    #Replacing symbols in  our data\n",
    "    q = q.replace('%', ' percent')\n",
    "    q = q.replace('$', ' dollar ')\n",
    "    q = q.replace('₹', ' rupee ')\n",
    "    q = q.replace('€', ' euro ')\n",
    "    q = q.replace('@', ' at ')    \n",
    "    q = q.replace(',000,000 ', 'm ')\n",
    "    q = q.replace(',000 ', 'k ')\n",
    "    \n",
    "    import contractions\n",
    "    \n",
    "    contractedQuestions= []\n",
    "    #Removing any Contractions From Questions\n",
    "    for word in q.split():\n",
    "        contractedQuestions.append(contractions.fix(word))\n",
    "        \n",
    "    #Merge our question back together \n",
    "    q = ' '.join(contractedQuestions)\n",
    "    \n",
    "    q = q.replace(\"'ve\", \" have\")\n",
    "    q = q.replace(\"n't\", \" not\")\n",
    "    q = q.replace(\"'re\", \" are\")\n",
    "    q = q.replace(\"'ll\", \" will\")\n",
    "    \n",
    "    \n",
    "    #Removing HTML Tags\n",
    "    q = BeautifulSoup(q)\n",
    "    q = q.get_text()\n",
    "\n",
    "    #Removing Punctuations\n",
    "    pattern = re.compile('\\W')\n",
    "    q = re.sub(pattern, ' ', q).strip()\n",
    "    \n",
    "    #Removing Numbers From Data\n",
    "    num = re.compile('\\d+')\n",
    "    q = re.sub(num,\"num\",q) \n",
    "    \n",
    "    \n",
    "    return q"
   ]
  },
  {
   "cell_type": "code",
   "execution_count": 14,
   "id": "5755e463",
   "metadata": {},
   "outputs": [],
   "source": [
    "#Apply preprocessing on our set of questions\n",
    "new_df['question1'] = new_df['question1'].apply(preprocessing)\n",
    "new_df['question2'] = new_df['question2'].apply(preprocessing)"
   ]
  },
  {
   "cell_type": "markdown",
   "id": "fec563e9",
   "metadata": {},
   "source": [
    "# Convert all questions to lowercase letters "
   ]
  },
  {
   "cell_type": "code",
   "execution_count": 15,
   "id": "754e96ef",
   "metadata": {},
   "outputs": [],
   "source": [
    "new_df['question1']= new_df['question1'].str.lower()\n",
    "new_df['question2']= new_df['question2'].str.lower()"
   ]
  },
  {
   "cell_type": "markdown",
   "id": "308102f8",
   "metadata": {},
   "source": [
    "# Remove Stop Words"
   ]
  },
  {
   "cell_type": "code",
   "execution_count": 16,
   "id": "b9be2f6a",
   "metadata": {},
   "outputs": [],
   "source": [
    "from nltk.corpus import stopwords\n",
    "stop_words = set(stopwords.words(\"english\"))\n",
    "new_df[\"question1\"] = new_df[\"question1\"] .apply(lambda x: ' '.join(word for word in str(x).split() if word.casefold()not in (stop_words)))\n",
    "new_df[\"question2\"] = new_df[\"question2\"] .apply(lambda x: ' '.join(word for word in str(x).split() if word.casefold()not in (stop_words)))"
   ]
  },
  {
   "cell_type": "markdown",
   "id": "8873428c",
   "metadata": {},
   "source": [
    "# Words Lemmatizing"
   ]
  },
  {
   "cell_type": "code",
   "execution_count": 17,
   "id": "cb4b767d",
   "metadata": {},
   "outputs": [],
   "source": [
    "from nltk.stem import WordNetLemmatizer\n",
    "import nltk\n",
    "\n",
    "lemmatizer = WordNetLemmatizer()\n",
    "new_df[\"q1_lemma\"] = new_df[\"question1\"].apply(lambda text: \" \".join([lemmatizer.lemmatize(word) for word in text.split()]))\n",
    "new_df[\"q2_lemma\"] = new_df[\"question2\"].apply(lambda text: \" \".join([lemmatizer.lemmatize(word) for word in text.split()]))"
   ]
  },
  {
   "cell_type": "code",
   "execution_count": 18,
   "id": "026257f2",
   "metadata": {},
   "outputs": [],
   "source": [
    "# we don't need the original questions anymore\n",
    "new_df.drop(['question1','question2'], axis=1,inplace = True)"
   ]
  },
  {
   "cell_type": "code",
   "execution_count": 19,
   "id": "1134f94a",
   "metadata": {},
   "outputs": [
    {
     "data": {
      "text/html": [
       "<div>\n",
       "<style scoped>\n",
       "    .dataframe tbody tr th:only-of-type {\n",
       "        vertical-align: middle;\n",
       "    }\n",
       "\n",
       "    .dataframe tbody tr th {\n",
       "        vertical-align: top;\n",
       "    }\n",
       "\n",
       "    .dataframe thead th {\n",
       "        text-align: right;\n",
       "    }\n",
       "</style>\n",
       "<table border=\"1\" class=\"dataframe\">\n",
       "  <thead>\n",
       "    <tr style=\"text-align: right;\">\n",
       "      <th></th>\n",
       "      <th>id</th>\n",
       "      <th>qid1</th>\n",
       "      <th>qid2</th>\n",
       "      <th>is_duplicate</th>\n",
       "      <th>q1_lemma</th>\n",
       "      <th>q2_lemma</th>\n",
       "    </tr>\n",
       "  </thead>\n",
       "  <tbody>\n",
       "    <tr>\n",
       "      <th>331533</th>\n",
       "      <td>331535</td>\n",
       "      <td>169053</td>\n",
       "      <td>295926</td>\n",
       "      <td>1</td>\n",
       "      <td>learn norwegian</td>\n",
       "      <td>quickest way learn norwegian</td>\n",
       "    </tr>\n",
       "    <tr>\n",
       "      <th>45407</th>\n",
       "      <td>45407</td>\n",
       "      <td>81383</td>\n",
       "      <td>81384</td>\n",
       "      <td>1</td>\n",
       "      <td>currency rate determined</td>\n",
       "      <td>exchange rate determined</td>\n",
       "    </tr>\n",
       "    <tr>\n",
       "      <th>286198</th>\n",
       "      <td>286200</td>\n",
       "      <td>285024</td>\n",
       "      <td>406729</td>\n",
       "      <td>0</td>\n",
       "      <td>substitution</td>\n",
       "      <td>substitute caciocavallo</td>\n",
       "    </tr>\n",
       "    <tr>\n",
       "      <th>157194</th>\n",
       "      <td>157195</td>\n",
       "      <td>245856</td>\n",
       "      <td>245857</td>\n",
       "      <td>1</td>\n",
       "      <td>make iphone nums faster io num num</td>\n",
       "      <td>iphone nums make faster comfortable use</td>\n",
       "    </tr>\n",
       "    <tr>\n",
       "      <th>154345</th>\n",
       "      <td>154346</td>\n",
       "      <td>242075</td>\n",
       "      <td>242076</td>\n",
       "      <td>1</td>\n",
       "      <td>help girlfriend cope parent divorce</td>\n",
       "      <td>help girlfriend parent divorce</td>\n",
       "    </tr>\n",
       "  </tbody>\n",
       "</table>\n",
       "</div>"
      ],
      "text/plain": [
       "            id    qid1    qid2  is_duplicate  \\\n",
       "331533  331535  169053  295926             1   \n",
       "45407    45407   81383   81384             1   \n",
       "286198  286200  285024  406729             0   \n",
       "157194  157195  245856  245857             1   \n",
       "154345  154346  242075  242076             1   \n",
       "\n",
       "                                   q1_lemma  \\\n",
       "331533                      learn norwegian   \n",
       "45407              currency rate determined   \n",
       "286198                         substitution   \n",
       "157194   make iphone nums faster io num num   \n",
       "154345  help girlfriend cope parent divorce   \n",
       "\n",
       "                                       q2_lemma  \n",
       "331533             quickest way learn norwegian  \n",
       "45407                  exchange rate determined  \n",
       "286198                  substitute caciocavallo  \n",
       "157194  iphone nums make faster comfortable use  \n",
       "154345           help girlfriend parent divorce  "
      ]
     },
     "execution_count": 19,
     "metadata": {},
     "output_type": "execute_result"
    }
   ],
   "source": [
    "new_df.head()"
   ]
  },
  {
   "cell_type": "markdown",
   "id": "caa29fd0",
   "metadata": {},
   "source": [
    "# Feature Extraction"
   ]
  },
  {
   "cell_type": "code",
   "execution_count": 20,
   "id": "8009bf65",
   "metadata": {},
   "outputs": [],
   "source": [
    "#Questions length\n",
    "new_df['q1_len'] = new_df['q1_lemma'].apply(lambda row: len(str(row).split(\" \")))\n",
    "new_df['q2_len'] = new_df['q2_lemma'].apply(lambda row: len(str(row).split(\" \")))"
   ]
  },
  {
   "cell_type": "code",
   "execution_count": 21,
   "id": "bfc9059e",
   "metadata": {},
   "outputs": [],
   "source": [
    "#Common words between questions\n",
    "new_df['common_words'] = new_df.apply(lambda r: set(str(r['q1_lemma']).split()) & set(str(r['q2_lemma']).split()),axis=1)\n",
    "new_df['common_count'] = new_df['common_words'].str.len()"
   ]
  },
  {
   "cell_type": "code",
   "execution_count": 22,
   "id": "ec1a1a8d",
   "metadata": {},
   "outputs": [],
   "source": [
    "#Total words of both questions\n",
    "total_words = new_df['q1_len'] + new_df['q2_len']\n",
    "new_df['total_words']= total_words"
   ]
  },
  {
   "cell_type": "code",
   "execution_count": 23,
   "id": "23568892",
   "metadata": {},
   "outputs": [],
   "source": [
    "#Common words shared between them ratio\n",
    "new_df['word_share_ratio'] = round(new_df['common_count']/new_df['total_words'],2)"
   ]
  },
  {
   "cell_type": "code",
   "execution_count": 24,
   "id": "bbc90ddd",
   "metadata": {},
   "outputs": [],
   "source": [
    "# Tokenizing sentences\n",
    "from nltk.tokenize import word_tokenize\n",
    "new_df['q1_lemma'] = new_df.apply(lambda row: nltk.word_tokenize(row[\"q1_lemma\"]), axis=1)\n",
    "new_df['q2_lemma'] = new_df.apply(lambda row: nltk.word_tokenize(row[\"q2_lemma\"]), axis=1)"
   ]
  },
  {
   "cell_type": "code",
   "execution_count": 25,
   "id": "73f5a580",
   "metadata": {},
   "outputs": [
    {
     "data": {
      "text/html": [
       "<div>\n",
       "<style scoped>\n",
       "    .dataframe tbody tr th:only-of-type {\n",
       "        vertical-align: middle;\n",
       "    }\n",
       "\n",
       "    .dataframe tbody tr th {\n",
       "        vertical-align: top;\n",
       "    }\n",
       "\n",
       "    .dataframe thead th {\n",
       "        text-align: right;\n",
       "    }\n",
       "</style>\n",
       "<table border=\"1\" class=\"dataframe\">\n",
       "  <thead>\n",
       "    <tr style=\"text-align: right;\">\n",
       "      <th></th>\n",
       "      <th>is_duplicate</th>\n",
       "      <th>q1_len</th>\n",
       "      <th>q2_len</th>\n",
       "      <th>common_count</th>\n",
       "      <th>total_words</th>\n",
       "      <th>word_share_ratio</th>\n",
       "    </tr>\n",
       "  </thead>\n",
       "  <tbody>\n",
       "    <tr>\n",
       "      <th>331533</th>\n",
       "      <td>1</td>\n",
       "      <td>2</td>\n",
       "      <td>4</td>\n",
       "      <td>2</td>\n",
       "      <td>6</td>\n",
       "      <td>0.33</td>\n",
       "    </tr>\n",
       "    <tr>\n",
       "      <th>45407</th>\n",
       "      <td>1</td>\n",
       "      <td>3</td>\n",
       "      <td>3</td>\n",
       "      <td>2</td>\n",
       "      <td>6</td>\n",
       "      <td>0.33</td>\n",
       "    </tr>\n",
       "    <tr>\n",
       "      <th>286198</th>\n",
       "      <td>0</td>\n",
       "      <td>1</td>\n",
       "      <td>2</td>\n",
       "      <td>0</td>\n",
       "      <td>3</td>\n",
       "      <td>0.00</td>\n",
       "    </tr>\n",
       "    <tr>\n",
       "      <th>157194</th>\n",
       "      <td>1</td>\n",
       "      <td>7</td>\n",
       "      <td>6</td>\n",
       "      <td>4</td>\n",
       "      <td>13</td>\n",
       "      <td>0.31</td>\n",
       "    </tr>\n",
       "    <tr>\n",
       "      <th>154345</th>\n",
       "      <td>1</td>\n",
       "      <td>5</td>\n",
       "      <td>4</td>\n",
       "      <td>4</td>\n",
       "      <td>9</td>\n",
       "      <td>0.44</td>\n",
       "    </tr>\n",
       "  </tbody>\n",
       "</table>\n",
       "</div>"
      ],
      "text/plain": [
       "        is_duplicate  q1_len  q2_len  common_count  total_words  \\\n",
       "331533             1       2       4             2            6   \n",
       "45407              1       3       3             2            6   \n",
       "286198             0       1       2             0            3   \n",
       "157194             1       7       6             4           13   \n",
       "154345             1       5       4             4            9   \n",
       "\n",
       "        word_share_ratio  \n",
       "331533              0.33  \n",
       "45407               0.33  \n",
       "286198              0.00  \n",
       "157194              0.31  \n",
       "154345              0.44  "
      ]
     },
     "execution_count": 25,
     "metadata": {},
     "output_type": "execute_result"
    }
   ],
   "source": [
    "final_df = new_df.drop(columns=['id','qid1','qid2','q1_lemma','q2_lemma','common_words'])\n",
    "final_df.head()"
   ]
  },
  {
   "cell_type": "markdown",
   "id": "f68bc571",
   "metadata": {},
   "source": [
    "# Data Satistics Visualization"
   ]
  },
  {
   "cell_type": "code",
   "execution_count": 26,
   "id": "7c6cfe15",
   "metadata": {},
   "outputs": [
    {
     "data": {
      "text/plain": [
       "<seaborn.axisgrid.FacetGrid at 0x11952a49820>"
      ]
     },
     "execution_count": 26,
     "metadata": {},
     "output_type": "execute_result"
    },
    {
     "data": {
      "image/png": "[encoded data removed]",
      "text/plain": [
       "<Figure size 360x360 with 1 Axes>"
      ]
     },
     "metadata": {
      "needs_background": "light"
     },
     "output_type": "display_data"
    }
   ],
   "source": [
    "sns.displot(final_df['is_duplicate'])"
   ]
  },
  {
   "cell_type": "code",
   "execution_count": 27,
   "id": "f576dcc0",
   "metadata": {},
   "outputs": [
    {
     "data": {
      "text/plain": [
       "<seaborn.axisgrid.FacetGrid at 0x11954126e50>"
      ]
     },
     "execution_count": 27,
     "metadata": {},
     "output_type": "execute_result"
    },
    {
     "data": {
      "image/png": "[encoded data removed]",
      "text/plain": [
       "<Figure size 360x360 with 1 Axes>"
      ]
     },
     "metadata": {
      "needs_background": "light"
     },
     "output_type": "display_data"
    }
   ],
   "source": [
    "sns.displot(final_df['q1_len'])"
   ]
  },
  {
   "cell_type": "code",
   "execution_count": 28,
   "id": "a803947a",
   "metadata": {},
   "outputs": [
    {
     "data": {
      "text/plain": [
       "<seaborn.axisgrid.FacetGrid at 0x1195433a9d0>"
      ]
     },
     "execution_count": 28,
     "metadata": {},
     "output_type": "execute_result"
    },
    {
     "data": {
      "image/png": "[encoded data removed]",
      "text/plain": [
       "<Figure size 360x360 with 1 Axes>"
      ]
     },
     "metadata": {
      "needs_background": "light"
     },
     "output_type": "display_data"
    }
   ],
   "source": [
    "sns.displot(final_df['q2_len'])"
   ]
  },
  {
   "cell_type": "code",
   "execution_count": 29,
   "id": "9ab8f8df",
   "metadata": {},
   "outputs": [
    {
     "data": {
      "text/plain": [
       "<seaborn.axisgrid.FacetGrid at 0x11954331130>"
      ]
     },
     "execution_count": 29,
     "metadata": {},
     "output_type": "execute_result"
    },
    {
     "data": {
      "image/png": "[encoded data removed]",
      "text/plain": [
       "<Figure size 360x360 with 1 Axes>"
      ]
     },
     "metadata": {
      "needs_background": "light"
     },
     "output_type": "display_data"
    }
   ],
   "source": [
    "sns.displot(final_df['common_count'])"
   ]
  },
  {
   "cell_type": "code",
   "execution_count": 30,
   "id": "6311bc63",
   "metadata": {},
   "outputs": [
    {
     "data": {
      "text/plain": [
       "<seaborn.axisgrid.FacetGrid at 0x11962484940>"
      ]
     },
     "execution_count": 30,
     "metadata": {},
     "output_type": "execute_result"
    },
    {
     "data": {
      "image/png": "[encoded data removed]",
      "text/plain": [
       "<Figure size 360x360 with 1 Axes>"
      ]
     },
     "metadata": {
      "needs_background": "light"
     },
     "output_type": "display_data"
    }
   ],
   "source": [
    "sns.displot(final_df['total_words'])"
   ]
  },
  {
   "cell_type": "code",
   "execution_count": 31,
   "id": "f378eb68",
   "metadata": {},
   "outputs": [
    {
     "data": {
      "text/plain": [
       "<seaborn.axisgrid.FacetGrid at 0x119624b4d30>"
      ]
     },
     "execution_count": 31,
     "metadata": {},
     "output_type": "execute_result"
    },
    {
     "data": {
      "image/png": "[encoded data removed]",
      "text/plain": [
       "<Figure size 360x360 with 1 Axes>"
      ]
     },
     "metadata": {
      "needs_background": "light"
     },
     "output_type": "display_data"
    }
   ],
   "source": [
    "sns.displot(final_df['word_share_ratio'])"
   ]
  },
  {
   "cell_type": "markdown",
   "id": "e3cbdeb8",
   "metadata": {},
   "source": [
    "# Word2Vec Model"
   ]
  },
  {
   "cell_type": "code",
   "execution_count": 32,
   "id": "88497634",
   "metadata": {},
   "outputs": [],
   "source": [
    "#Preparing a list of tokenized sentences to give to the word2Vec model \n",
    "Sentences1 = []\n",
    "for row in new_df[\"q1_lemma\"]:\n",
    "    temp=[]\n",
    "    for i in row:\n",
    "        temp.append(i)\n",
    "    Sentences1.append(temp)"
   ]
  },
  {
   "cell_type": "code",
   "execution_count": 33,
   "id": "a420f1b6",
   "metadata": {},
   "outputs": [],
   "source": [
    "Sentences2 = []\n",
    "for row in new_df[\"q2_lemma\"]:\n",
    "    temp=[]\n",
    "    for i in row:\n",
    "        temp.append(i)\n",
    "    Sentences2.append(temp)"
   ]
  },
  {
   "cell_type": "code",
   "execution_count": 34,
   "id": "c0b65617",
   "metadata": {},
   "outputs": [],
   "source": [
    "#Final list that will be inserted into Word2Vec\n",
    "Sentences = Sentences1 + Sentences2"
   ]
  },
  {
   "cell_type": "markdown",
   "id": "91c80fa3",
   "metadata": {},
   "source": [
    "# Model Training"
   ]
  },
  {
   "cell_type": "code",
   "execution_count": 36,
   "id": "ec2ad726",
   "metadata": {},
   "outputs": [],
   "source": [
    "model = gensim.models.Word2Vec(Sentences,min_count=10,\n",
    "                     window=3,\n",
    "                     vector_size=300,\n",
    "                     sample=6e-5, \n",
    "                     alpha=0.03, \n",
    "                     min_alpha=0.0007, \n",
    "                     negative=20,workers=4)"
   ]
  },
  {
   "cell_type": "code",
   "execution_count": 37,
   "id": "118866ff",
   "metadata": {},
   "outputs": [
    {
     "data": {
      "text/plain": [
       "(4477938, 10091790)"
      ]
     },
     "execution_count": 37,
     "metadata": {},
     "output_type": "execute_result"
    }
   ],
   "source": [
    "model.train(Sentences, total_examples = model.corpus_count, epochs=30, report_delay=1)"
   ]
  },
  {
   "cell_type": "code",
   "execution_count": 38,
   "id": "de6f0776",
   "metadata": {
    "scrolled": false
   },
   "outputs": [],
   "source": [
    "#Get cosine similarity between a word and words most similar to it\n",
    "#model.wv.most_similar(positive=['child'])"
   ]
  },
  {
   "cell_type": "markdown",
   "id": "1162d4c4",
   "metadata": {},
   "source": [
    "# Creating word Vectors as Features "
   ]
  },
  {
   "cell_type": "code",
   "execution_count": 39,
   "id": "12bd5b82",
   "metadata": {},
   "outputs": [],
   "source": [
    "#Average vectors of question 1\n",
    "q1_avg_vectors =[]\n",
    "for q in Sentences1:\n",
    "    vector = np.zeros(300)\n",
    "    num_of_words = 0\n",
    "    for word in q:\n",
    "        try:\n",
    "            vector = vector + model.wv[word]\n",
    "            num_of_words = num_of_words + 1\n",
    "        except:\n",
    "            pass\n",
    "    q1_avg_vectors.append(vector/num_of_words)    "
   ]
  },
  {
   "cell_type": "code",
   "execution_count": 40,
   "id": "2dac56c4",
   "metadata": {},
   "outputs": [],
   "source": [
    "#Average vectors of question 2\n",
    "q2_avg_vectors =[]\n",
    "for q in Sentences2:\n",
    "    vector = np.zeros(300)\n",
    "    num_of_words = 0\n",
    "    for word in q:\n",
    "        try:\n",
    "            vector = vector + model.wv[word]\n",
    "            num_of_words = num_of_words + 1\n",
    "        except:\n",
    "            pass\n",
    "    q2_avg_vectors.append(vector/num_of_words)  "
   ]
  },
  {
   "cell_type": "code",
   "execution_count": 41,
   "id": "cfa19c78",
   "metadata": {},
   "outputs": [],
   "source": [
    "#Convert them into arrays\n",
    "q1_vec = np.array(q1_avg_vectors)\n",
    "q2_vec = np.array(q2_avg_vectors)"
   ]
  },
  {
   "cell_type": "code",
   "execution_count": 42,
   "id": "fd8eca47",
   "metadata": {},
   "outputs": [
    {
     "data": {
      "text/plain": [
       "((30000, 300), (30000, 300))"
      ]
     },
     "execution_count": 42,
     "metadata": {},
     "output_type": "execute_result"
    }
   ],
   "source": [
    "q1_vec.shape, q2_vec.shape"
   ]
  },
  {
   "cell_type": "code",
   "execution_count": 43,
   "id": "efc47e27",
   "metadata": {},
   "outputs": [],
   "source": [
    "#Store them into a dataframe\n",
    "temp_df1 = pd.DataFrame(q1_vec)\n",
    "temp_df2 = pd.DataFrame(q2_vec)\n",
    "temp_df = pd.concat([temp_df1, temp_df2], axis=1, ignore_index=True)"
   ]
  },
  {
   "cell_type": "code",
   "execution_count": 44,
   "id": "983d45c6",
   "metadata": {
    "scrolled": true
   },
   "outputs": [
    {
     "data": {
      "text/html": [
       "<div>\n",
       "<style scoped>\n",
       "    .dataframe tbody tr th:only-of-type {\n",
       "        vertical-align: middle;\n",
       "    }\n",
       "\n",
       "    .dataframe tbody tr th {\n",
       "        vertical-align: top;\n",
       "    }\n",
       "\n",
       "    .dataframe thead th {\n",
       "        text-align: right;\n",
       "    }\n",
       "</style>\n",
       "<table border=\"1\" class=\"dataframe\">\n",
       "  <thead>\n",
       "    <tr style=\"text-align: right;\">\n",
       "      <th></th>\n",
       "      <th>0</th>\n",
       "      <th>1</th>\n",
       "      <th>2</th>\n",
       "      <th>3</th>\n",
       "      <th>4</th>\n",
       "      <th>5</th>\n",
       "      <th>6</th>\n",
       "      <th>7</th>\n",
       "      <th>8</th>\n",
       "      <th>9</th>\n",
       "      <th>...</th>\n",
       "      <th>596</th>\n",
       "      <th>597</th>\n",
       "      <th>598</th>\n",
       "      <th>599</th>\n",
       "      <th>is_duplicate</th>\n",
       "      <th>q1_len</th>\n",
       "      <th>q2_len</th>\n",
       "      <th>common_count</th>\n",
       "      <th>total_words</th>\n",
       "      <th>word_share_ratio</th>\n",
       "    </tr>\n",
       "  </thead>\n",
       "  <tbody>\n",
       "    <tr>\n",
       "      <th>0</th>\n",
       "      <td>-0.248331</td>\n",
       "      <td>0.135727</td>\n",
       "      <td>0.105354</td>\n",
       "      <td>0.369843</td>\n",
       "      <td>0.130486</td>\n",
       "      <td>-0.188654</td>\n",
       "      <td>0.210214</td>\n",
       "      <td>0.200737</td>\n",
       "      <td>0.012613</td>\n",
       "      <td>0.005895</td>\n",
       "      <td>...</td>\n",
       "      <td>0.101131</td>\n",
       "      <td>-0.012394</td>\n",
       "      <td>-0.066576</td>\n",
       "      <td>0.232293</td>\n",
       "      <td>0.0</td>\n",
       "      <td>0.0</td>\n",
       "      <td>0.0</td>\n",
       "      <td>0.0</td>\n",
       "      <td>0.0</td>\n",
       "      <td>0.00</td>\n",
       "    </tr>\n",
       "    <tr>\n",
       "      <th>1</th>\n",
       "      <td>0.311464</td>\n",
       "      <td>0.236277</td>\n",
       "      <td>-0.117879</td>\n",
       "      <td>0.309556</td>\n",
       "      <td>-0.157217</td>\n",
       "      <td>-0.251982</td>\n",
       "      <td>0.406611</td>\n",
       "      <td>-0.250046</td>\n",
       "      <td>-0.010143</td>\n",
       "      <td>0.096408</td>\n",
       "      <td>...</td>\n",
       "      <td>-0.096731</td>\n",
       "      <td>-0.005767</td>\n",
       "      <td>0.158889</td>\n",
       "      <td>0.099329</td>\n",
       "      <td>0.0</td>\n",
       "      <td>0.0</td>\n",
       "      <td>0.0</td>\n",
       "      <td>0.0</td>\n",
       "      <td>0.0</td>\n",
       "      <td>0.00</td>\n",
       "    </tr>\n",
       "    <tr>\n",
       "      <th>2</th>\n",
       "      <td>0.000000</td>\n",
       "      <td>0.000000</td>\n",
       "      <td>0.000000</td>\n",
       "      <td>0.000000</td>\n",
       "      <td>0.000000</td>\n",
       "      <td>0.000000</td>\n",
       "      <td>0.000000</td>\n",
       "      <td>0.000000</td>\n",
       "      <td>0.000000</td>\n",
       "      <td>0.000000</td>\n",
       "      <td>...</td>\n",
       "      <td>0.120333</td>\n",
       "      <td>-0.354561</td>\n",
       "      <td>0.168226</td>\n",
       "      <td>-0.358042</td>\n",
       "      <td>0.0</td>\n",
       "      <td>0.0</td>\n",
       "      <td>0.0</td>\n",
       "      <td>0.0</td>\n",
       "      <td>0.0</td>\n",
       "      <td>0.00</td>\n",
       "    </tr>\n",
       "    <tr>\n",
       "      <th>3</th>\n",
       "      <td>-0.145936</td>\n",
       "      <td>0.104591</td>\n",
       "      <td>0.091186</td>\n",
       "      <td>0.416200</td>\n",
       "      <td>0.239939</td>\n",
       "      <td>0.030382</td>\n",
       "      <td>0.051501</td>\n",
       "      <td>0.223844</td>\n",
       "      <td>0.122580</td>\n",
       "      <td>0.046928</td>\n",
       "      <td>...</td>\n",
       "      <td>0.031596</td>\n",
       "      <td>0.083293</td>\n",
       "      <td>-0.143109</td>\n",
       "      <td>0.097868</td>\n",
       "      <td>0.0</td>\n",
       "      <td>3.0</td>\n",
       "      <td>9.0</td>\n",
       "      <td>0.0</td>\n",
       "      <td>12.0</td>\n",
       "      <td>0.00</td>\n",
       "    </tr>\n",
       "    <tr>\n",
       "      <th>4</th>\n",
       "      <td>0.042061</td>\n",
       "      <td>0.151736</td>\n",
       "      <td>-0.002000</td>\n",
       "      <td>0.105814</td>\n",
       "      <td>0.047360</td>\n",
       "      <td>-0.302294</td>\n",
       "      <td>-0.034627</td>\n",
       "      <td>0.208969</td>\n",
       "      <td>0.034915</td>\n",
       "      <td>0.071678</td>\n",
       "      <td>...</td>\n",
       "      <td>0.061885</td>\n",
       "      <td>-0.201989</td>\n",
       "      <td>0.007919</td>\n",
       "      <td>0.005647</td>\n",
       "      <td>0.0</td>\n",
       "      <td>0.0</td>\n",
       "      <td>0.0</td>\n",
       "      <td>0.0</td>\n",
       "      <td>0.0</td>\n",
       "      <td>0.00</td>\n",
       "    </tr>\n",
       "    <tr>\n",
       "      <th>...</th>\n",
       "      <td>...</td>\n",
       "      <td>...</td>\n",
       "      <td>...</td>\n",
       "      <td>...</td>\n",
       "      <td>...</td>\n",
       "      <td>...</td>\n",
       "      <td>...</td>\n",
       "      <td>...</td>\n",
       "      <td>...</td>\n",
       "      <td>...</td>\n",
       "      <td>...</td>\n",
       "      <td>...</td>\n",
       "      <td>...</td>\n",
       "      <td>...</td>\n",
       "      <td>...</td>\n",
       "      <td>...</td>\n",
       "      <td>...</td>\n",
       "      <td>...</td>\n",
       "      <td>...</td>\n",
       "      <td>...</td>\n",
       "      <td>...</td>\n",
       "    </tr>\n",
       "    <tr>\n",
       "      <th>91979</th>\n",
       "      <td>0.000000</td>\n",
       "      <td>0.000000</td>\n",
       "      <td>0.000000</td>\n",
       "      <td>0.000000</td>\n",
       "      <td>0.000000</td>\n",
       "      <td>0.000000</td>\n",
       "      <td>0.000000</td>\n",
       "      <td>0.000000</td>\n",
       "      <td>0.000000</td>\n",
       "      <td>0.000000</td>\n",
       "      <td>...</td>\n",
       "      <td>0.000000</td>\n",
       "      <td>0.000000</td>\n",
       "      <td>0.000000</td>\n",
       "      <td>0.000000</td>\n",
       "      <td>0.0</td>\n",
       "      <td>3.0</td>\n",
       "      <td>4.0</td>\n",
       "      <td>1.0</td>\n",
       "      <td>7.0</td>\n",
       "      <td>0.14</td>\n",
       "    </tr>\n",
       "    <tr>\n",
       "      <th>125044</th>\n",
       "      <td>0.000000</td>\n",
       "      <td>0.000000</td>\n",
       "      <td>0.000000</td>\n",
       "      <td>0.000000</td>\n",
       "      <td>0.000000</td>\n",
       "      <td>0.000000</td>\n",
       "      <td>0.000000</td>\n",
       "      <td>0.000000</td>\n",
       "      <td>0.000000</td>\n",
       "      <td>0.000000</td>\n",
       "      <td>...</td>\n",
       "      <td>0.000000</td>\n",
       "      <td>0.000000</td>\n",
       "      <td>0.000000</td>\n",
       "      <td>0.000000</td>\n",
       "      <td>1.0</td>\n",
       "      <td>4.0</td>\n",
       "      <td>3.0</td>\n",
       "      <td>3.0</td>\n",
       "      <td>7.0</td>\n",
       "      <td>0.43</td>\n",
       "    </tr>\n",
       "    <tr>\n",
       "      <th>313993</th>\n",
       "      <td>0.000000</td>\n",
       "      <td>0.000000</td>\n",
       "      <td>0.000000</td>\n",
       "      <td>0.000000</td>\n",
       "      <td>0.000000</td>\n",
       "      <td>0.000000</td>\n",
       "      <td>0.000000</td>\n",
       "      <td>0.000000</td>\n",
       "      <td>0.000000</td>\n",
       "      <td>0.000000</td>\n",
       "      <td>...</td>\n",
       "      <td>0.000000</td>\n",
       "      <td>0.000000</td>\n",
       "      <td>0.000000</td>\n",
       "      <td>0.000000</td>\n",
       "      <td>0.0</td>\n",
       "      <td>5.0</td>\n",
       "      <td>17.0</td>\n",
       "      <td>3.0</td>\n",
       "      <td>22.0</td>\n",
       "      <td>0.14</td>\n",
       "    </tr>\n",
       "    <tr>\n",
       "      <th>203569</th>\n",
       "      <td>0.000000</td>\n",
       "      <td>0.000000</td>\n",
       "      <td>0.000000</td>\n",
       "      <td>0.000000</td>\n",
       "      <td>0.000000</td>\n",
       "      <td>0.000000</td>\n",
       "      <td>0.000000</td>\n",
       "      <td>0.000000</td>\n",
       "      <td>0.000000</td>\n",
       "      <td>0.000000</td>\n",
       "      <td>...</td>\n",
       "      <td>0.000000</td>\n",
       "      <td>0.000000</td>\n",
       "      <td>0.000000</td>\n",
       "      <td>0.000000</td>\n",
       "      <td>0.0</td>\n",
       "      <td>3.0</td>\n",
       "      <td>4.0</td>\n",
       "      <td>2.0</td>\n",
       "      <td>7.0</td>\n",
       "      <td>0.29</td>\n",
       "    </tr>\n",
       "    <tr>\n",
       "      <th>375290</th>\n",
       "      <td>0.000000</td>\n",
       "      <td>0.000000</td>\n",
       "      <td>0.000000</td>\n",
       "      <td>0.000000</td>\n",
       "      <td>0.000000</td>\n",
       "      <td>0.000000</td>\n",
       "      <td>0.000000</td>\n",
       "      <td>0.000000</td>\n",
       "      <td>0.000000</td>\n",
       "      <td>0.000000</td>\n",
       "      <td>...</td>\n",
       "      <td>0.000000</td>\n",
       "      <td>0.000000</td>\n",
       "      <td>0.000000</td>\n",
       "      <td>0.000000</td>\n",
       "      <td>0.0</td>\n",
       "      <td>1.0</td>\n",
       "      <td>2.0</td>\n",
       "      <td>1.0</td>\n",
       "      <td>3.0</td>\n",
       "      <td>0.33</td>\n",
       "    </tr>\n",
       "  </tbody>\n",
       "</table>\n",
       "<p>57751 rows × 606 columns</p>\n",
       "</div>"
      ],
      "text/plain": [
       "               0         1         2         3         4         5         6  \\\n",
       "0      -0.248331  0.135727  0.105354  0.369843  0.130486 -0.188654  0.210214   \n",
       "1       0.311464  0.236277 -0.117879  0.309556 -0.157217 -0.251982  0.406611   \n",
       "2       0.000000  0.000000  0.000000  0.000000  0.000000  0.000000  0.000000   \n",
       "3      -0.145936  0.104591  0.091186  0.416200  0.239939  0.030382  0.051501   \n",
       "4       0.042061  0.151736 -0.002000  0.105814  0.047360 -0.302294 -0.034627   \n",
       "...          ...       ...       ...       ...       ...       ...       ...   \n",
       "91979   0.000000  0.000000  0.000000  0.000000  0.000000  0.000000  0.000000   \n",
       "125044  0.000000  0.000000  0.000000  0.000000  0.000000  0.000000  0.000000   \n",
       "313993  0.000000  0.000000  0.000000  0.000000  0.000000  0.000000  0.000000   \n",
       "203569  0.000000  0.000000  0.000000  0.000000  0.000000  0.000000  0.000000   \n",
       "375290  0.000000  0.000000  0.000000  0.000000  0.000000  0.000000  0.000000   \n",
       "\n",
       "               7         8         9  ...       596       597       598  \\\n",
       "0       0.200737  0.012613  0.005895  ...  0.101131 -0.012394 -0.066576   \n",
       "1      -0.250046 -0.010143  0.096408  ... -0.096731 -0.005767  0.158889   \n",
       "2       0.000000  0.000000  0.000000  ...  0.120333 -0.354561  0.168226   \n",
       "3       0.223844  0.122580  0.046928  ...  0.031596  0.083293 -0.143109   \n",
       "4       0.208969  0.034915  0.071678  ...  0.061885 -0.201989  0.007919   \n",
       "...          ...       ...       ...  ...       ...       ...       ...   \n",
       "91979   0.000000  0.000000  0.000000  ...  0.000000  0.000000  0.000000   \n",
       "125044  0.000000  0.000000  0.000000  ...  0.000000  0.000000  0.000000   \n",
       "313993  0.000000  0.000000  0.000000  ...  0.000000  0.000000  0.000000   \n",
       "203569  0.000000  0.000000  0.000000  ...  0.000000  0.000000  0.000000   \n",
       "375290  0.000000  0.000000  0.000000  ...  0.000000  0.000000  0.000000   \n",
       "\n",
       "             599  is_duplicate  q1_len  q2_len  common_count  total_words  \\\n",
       "0       0.232293           0.0     0.0     0.0           0.0          0.0   \n",
       "1       0.099329           0.0     0.0     0.0           0.0          0.0   \n",
       "2      -0.358042           0.0     0.0     0.0           0.0          0.0   \n",
       "3       0.097868           0.0     3.0     9.0           0.0         12.0   \n",
       "4       0.005647           0.0     0.0     0.0           0.0          0.0   \n",
       "...          ...           ...     ...     ...           ...          ...   \n",
       "91979   0.000000           0.0     3.0     4.0           1.0          7.0   \n",
       "125044  0.000000           1.0     4.0     3.0           3.0          7.0   \n",
       "313993  0.000000           0.0     5.0    17.0           3.0         22.0   \n",
       "203569  0.000000           0.0     3.0     4.0           2.0          7.0   \n",
       "375290  0.000000           0.0     1.0     2.0           1.0          3.0   \n",
       "\n",
       "        word_share_ratio  \n",
       "0                   0.00  \n",
       "1                   0.00  \n",
       "2                   0.00  \n",
       "3                   0.00  \n",
       "4                   0.00  \n",
       "...                  ...  \n",
       "91979               0.14  \n",
       "125044              0.43  \n",
       "313993              0.14  \n",
       "203569              0.29  \n",
       "375290              0.33  \n",
       "\n",
       "[57751 rows x 606 columns]"
      ]
     },
     "execution_count": 44,
     "metadata": {},
     "output_type": "execute_result"
    }
   ],
   "source": [
    "#Concatenate to our final dataframe\n",
    "final_df = pd.concat([temp_df, final_df], axis=1)\n",
    "#Fill null values with zero\n",
    "final_df = final_df.fillna(0)\n",
    "final_df"
   ]
  },
  {
   "cell_type": "code",
   "execution_count": 45,
   "id": "7baf59a7",
   "metadata": {},
   "outputs": [],
   "source": [
    "#Target\n",
    "Y = final_df[\"is_duplicate\"]\n",
    "#Features\n",
    "X = final_df.drop(\"is_duplicate\", axis=1)"
   ]
  },
  {
   "cell_type": "markdown",
   "id": "77ae0e67",
   "metadata": {},
   "source": [
    "# Split our dataset into train & test"
   ]
  },
  {
   "cell_type": "code",
   "execution_count": 46,
   "id": "f019e5be",
   "metadata": {},
   "outputs": [],
   "source": [
    "from sklearn.model_selection import train_test_split\n",
    "Xtrain,Xtest,ytrain,ytest = train_test_split(X,Y,test_size=0.2,random_state=1)"
   ]
  },
  {
   "cell_type": "markdown",
   "id": "da279704",
   "metadata": {},
   "source": [
    "# Logistic Regression Model"
   ]
  },
  {
   "cell_type": "code",
   "execution_count": 47,
   "id": "47b23f6d",
   "metadata": {},
   "outputs": [
    {
     "name": "stdout",
     "output_type": "stream",
     "text": [
      "Accuracy of Logistic Regression: 83.0% \n"
     ]
    }
   ],
   "source": [
    "from sklearn.linear_model import LogisticRegression\n",
    "from sklearn.metrics import accuracy_score\n",
    "modelLogistic = LogisticRegression()\n",
    "modelLogistic.fit(Xtrain,ytrain)\n",
    "y_pred = modelLogistic.predict(Xtest)\n",
    "Accuracy_logistic =round(accuracy_score(ytest,y_pred), 2)\n",
    "print(\"Accuracy of Logistic Regression: {}% \".format(Accuracy_logistic*100))"
   ]
  },
  {
   "cell_type": "markdown",
   "id": "525d7ee4",
   "metadata": {},
   "source": [
    "# Random Forest"
   ]
  },
  {
   "cell_type": "code",
   "execution_count": 48,
   "id": "d539be21",
   "metadata": {},
   "outputs": [
    {
     "name": "stdout",
     "output_type": "stream",
     "text": [
      "Accuracy of Random Forest: 84.0% \n"
     ]
    }
   ],
   "source": [
    "from sklearn.ensemble import RandomForestClassifier\n",
    "from sklearn.metrics import accuracy_score\n",
    "rf = RandomForestClassifier()\n",
    "rf.fit(Xtrain,ytrain)\n",
    "y_pred = rf.predict(Xtest)\n",
    "Accuracy_random =round(accuracy_score(ytest,y_pred), 2)\n",
    "print(\"Accuracy of Random Forest: {}% \".format(Accuracy_random*100))"
   ]
  },
  {
   "cell_type": "markdown",
   "id": "806e1da7",
   "metadata": {},
   "source": [
    "# Decision Tree"
   ]
  },
  {
   "cell_type": "code",
   "execution_count": 49,
   "id": "b8b3f6bc",
   "metadata": {},
   "outputs": [
    {
     "name": "stdout",
     "output_type": "stream",
     "text": [
      "Accuracy of Decision Tree: 84.0% \n"
     ]
    }
   ],
   "source": [
    "from sklearn.tree import DecisionTreeClassifier\n",
    "dTree_clf = DecisionTreeClassifier()\n",
    "dTree_clf.fit(Xtrain,ytrain)\n",
    "ypred2 = dTree_clf.predict(Xtest)\n",
    "Accuracy_tree =round(accuracy_score(ytest,ypred2), 2)\n",
    "print(\"Accuracy of Decision Tree: {}% \".format(Accuracy_tree*100))"
   ]
  },
  {
   "cell_type": "markdown",
   "id": "db15a2d3",
   "metadata": {},
   "source": [
    "# Model Visualization"
   ]
  },
  {
   "cell_type": "code",
   "execution_count": 50,
   "id": "7c4d886d",
   "metadata": {},
   "outputs": [
    {
     "data": {
      "image/png": "[encoded data removed]",
      "text/plain": [
       "<Figure size 432x288 with 1 Axes>"
      ]
     },
     "metadata": {
      "needs_background": "light"
     },
     "output_type": "display_data"
    }
   ],
   "source": [
    "# bar graph for Accuracy\n",
    "Plotdaata=['Logistic Regression','Random Forest','Decision Tree']\n",
    "plotnum = [Accuracy_logistic, Accuracy_random,Accuracy_tree]\n",
    "plt.bar(Plotdaata, plotnum)\n",
    "plt.title(\"Accuracy For Models\")\n",
    "plt.ylabel(\"accuracy\")\n",
    "plt.show()"
   ]
  }
 ],
 "metadata": {
  "kernelspec": {
   "display_name": "Python 3 (ipykernel)",
   "language": "python",
   "name": "python3"
  },
  "language_info": {
   "codemirror_mode": {
    "name": "ipython",
    "version": 3
   },
   "file_extension": ".py",
   "mimetype": "text/x-python",
   "name": "python",
   "nbconvert_exporter": "python",
   "pygments_lexer": "ipython3",
   "version": "3.9.12"
  }
 },
 "nbformat": 4,
 "nbformat_minor": 5
}
